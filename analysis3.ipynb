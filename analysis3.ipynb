{
 "cells": [
  {
   "cell_type": "code",
   "execution_count": 1,
   "metadata": {},
   "outputs": [],
   "source": [
    "import pandas as pd\n",
    "\n",
    "df = pd.read_csv(\"logs3.csv.gz\", parse_dates=[1])"
   ]
  },
  {
   "cell_type": "code",
   "execution_count": 10,
   "metadata": {},
   "outputs": [
    {
     "data": {
      "text/plain": [
       "4528738"
      ]
     },
     "execution_count": 10,
     "metadata": {},
     "output_type": "execute_result"
    }
   ],
   "source": [
    "len(df)"
   ]
  },
  {
   "cell_type": "code",
   "execution_count": 2,
   "metadata": {},
   "outputs": [
    {
     "data": {
      "text/plain": [
       "ogpweb#               int64\n",
       "date         datetime64[ns]\n",
       "request              object\n",
       "code                  int64\n",
       "bytes                 int64\n",
       "referrer             object\n",
       "useragent            object\n",
       "source               object\n",
       "rt                  float64\n",
       "urt                 float64\n",
       "dtype: object"
      ]
     },
     "execution_count": 2,
     "metadata": {},
     "output_type": "execute_result"
    }
   ],
   "source": [
    "df.dtypes"
   ]
  },
  {
   "cell_type": "code",
   "execution_count": 15,
   "metadata": {},
   "outputs": [
    {
     "data": {
      "text/plain": [
       "<AxesSubplot:ylabel='Frequency'>"
      ]
     },
     "execution_count": 15,
     "metadata": {},
     "output_type": "execute_result"
    },
    {
     "data": {
      "image/png": "[encoded data removed]",
      "text/plain": [
       "<Figure size 432x288 with 1 Axes>"
      ]
     },
     "metadata": {
      "needs_background": "light"
     },
     "output_type": "display_data"
    }
   ],
   "source": [
    "df['urt'].plot.hist(bins=100, range=[0,10])"
   ]
  },
  {
   "cell_type": "markdown",
   "metadata": {},
   "source": [
    "# Processing time per page"
   ]
  },
  {
   "cell_type": "code",
   "execution_count": 6,
   "metadata": {},
   "outputs": [],
   "source": [
    "def bucket(r):\n",
    "    r = r.rsplit('HTTP/')[0].split('GET ')[-1]\n",
    "    for s in ('?', '/dataset/', '/reference/', '/inventory/',\n",
    "              '/comment/', '/node/', '/suggested-datasets/',\n",
    "              '/4plan/', '/apps/'):\n",
    "        if s in r:\n",
    "            r = r.split(s)[0] + s + '…'\n",
    "    return r\n",
    "bdf = df[['request','urt']].copy(deep=True)\n",
    "bdf['request'] = bdf['request'].map(bucket)"
   ]
  },
  {
   "cell_type": "code",
   "execution_count": 8,
   "metadata": {
    "scrolled": false
   },
   "outputs": [
    {
     "data": {
      "text/html": [
       "<div>\n",
       "<style scoped>\n",
       "    .dataframe tbody tr th:only-of-type {\n",
       "        vertical-align: middle;\n",
       "    }\n",
       "\n",
       "    .dataframe tbody tr th {\n",
       "        vertical-align: top;\n",
       "    }\n",
       "\n",
       "    .dataframe thead th {\n",
       "        text-align: right;\n",
       "    }\n",
       "</style>\n",
       "<table border=\"1\" class=\"dataframe\">\n",
       "  <thead>\n",
       "    <tr style=\"text-align: right;\">\n",
       "      <th></th>\n",
       "      <th>urt_median</th>\n",
       "      <th>urt_count</th>\n",
       "      <th>urt_sum (days)</th>\n",
       "    </tr>\n",
       "    <tr>\n",
       "      <th>request</th>\n",
       "      <th></th>\n",
       "      <th></th>\n",
       "      <th></th>\n",
       "    </tr>\n",
       "  </thead>\n",
       "  <tbody>\n",
       "    <tr>\n",
       "      <th>/fr/search/travelq?…</th>\n",
       "      <td>4.3700</td>\n",
       "      <td>614524</td>\n",
       "      <td>33.609304</td>\n",
       "    </tr>\n",
       "    <tr>\n",
       "      <th>/en/search/ati?…</th>\n",
       "      <td>3.0290</td>\n",
       "      <td>114116</td>\n",
       "      <td>2.633022</td>\n",
       "    </tr>\n",
       "    <tr>\n",
       "      <th>/data/en/dataset?…</th>\n",
       "      <td>0.3180</td>\n",
       "      <td>589206</td>\n",
       "      <td>2.261166</td>\n",
       "    </tr>\n",
       "    <tr>\n",
       "      <th>/en/search/travelq?…</th>\n",
       "      <td>4.7860</td>\n",
       "      <td>32569</td>\n",
       "      <td>1.909906</td>\n",
       "    </tr>\n",
       "    <tr>\n",
       "      <th>/data/fr/dataset?…</th>\n",
       "      <td>0.2940</td>\n",
       "      <td>292330</td>\n",
       "      <td>1.030901</td>\n",
       "    </tr>\n",
       "    <tr>\n",
       "      <th>/en/search/contracts?…</th>\n",
       "      <td>3.9330</td>\n",
       "      <td>21791</td>\n",
       "      <td>0.702893</td>\n",
       "    </tr>\n",
       "    <tr>\n",
       "      <th>/data/en/dataset/…</th>\n",
       "      <td>0.1660</td>\n",
       "      <td>220538</td>\n",
       "      <td>0.681972</td>\n",
       "    </tr>\n",
       "    <tr>\n",
       "      <th>/en?…</th>\n",
       "      <td>2.0690</td>\n",
       "      <td>28642</td>\n",
       "      <td>0.662697</td>\n",
       "    </tr>\n",
       "    <tr>\n",
       "      <th>/en/external-comment/dataset/…</th>\n",
       "      <td>0.7260</td>\n",
       "      <td>68804</td>\n",
       "      <td>0.600743</td>\n",
       "    </tr>\n",
       "    <tr>\n",
       "      <th>/en/comment/…</th>\n",
       "      <td>1.6350</td>\n",
       "      <td>24397</td>\n",
       "      <td>0.500694</td>\n",
       "    </tr>\n",
       "    <tr>\n",
       "      <th>/en/search/reclassification?…</th>\n",
       "      <td>4.2500</td>\n",
       "      <td>7243</td>\n",
       "      <td>0.345588</td>\n",
       "    </tr>\n",
       "    <tr>\n",
       "      <th>/en/od/?…</th>\n",
       "      <td>0.1260</td>\n",
       "      <td>192959</td>\n",
       "      <td>0.331499</td>\n",
       "    </tr>\n",
       "    <tr>\n",
       "      <th>/data/dataset?…</th>\n",
       "      <td>0.2550</td>\n",
       "      <td>70418</td>\n",
       "      <td>0.231954</td>\n",
       "    </tr>\n",
       "    <tr>\n",
       "      <th>/en/vote?…</th>\n",
       "      <td>0.2205</td>\n",
       "      <td>36304</td>\n",
       "      <td>0.229329</td>\n",
       "    </tr>\n",
       "    <tr>\n",
       "      <th>/fr/search/reclassification?…</th>\n",
       "      <td>4.6820</td>\n",
       "      <td>3991</td>\n",
       "      <td>0.220799</td>\n",
       "    </tr>\n",
       "    <tr>\n",
       "      <th>/en/search/hospitalityq?…</th>\n",
       "      <td>4.2740</td>\n",
       "      <td>4926</td>\n",
       "      <td>0.217897</td>\n",
       "    </tr>\n",
       "    <tr>\n",
       "      <th>/en/od/export/?…</th>\n",
       "      <td>0.2640</td>\n",
       "      <td>53970</td>\n",
       "      <td>0.203338</td>\n",
       "    </tr>\n",
       "    <tr>\n",
       "      <th>/fr/od/?…</th>\n",
       "      <td>0.1390</td>\n",
       "      <td>88559</td>\n",
       "      <td>0.171086</td>\n",
       "    </tr>\n",
       "    <tr>\n",
       "      <th>/data/fr/dataset/…</th>\n",
       "      <td>0.1440</td>\n",
       "      <td>77526</td>\n",
       "      <td>0.170901</td>\n",
       "    </tr>\n",
       "    <tr>\n",
       "      <th>/en/suggested-datasets/…</th>\n",
       "      <td>1.6340</td>\n",
       "      <td>7646</td>\n",
       "      <td>0.145712</td>\n",
       "    </tr>\n",
       "    <tr>\n",
       "      <th>/fr/external-comment/dataset/…</th>\n",
       "      <td>0.7740</td>\n",
       "      <td>11993</td>\n",
       "      <td>0.111146</td>\n",
       "    </tr>\n",
       "    <tr>\n",
       "      <th>POST /data/api/action/package_update</th>\n",
       "      <td>1.6370</td>\n",
       "      <td>4388</td>\n",
       "      <td>0.091119</td>\n",
       "    </tr>\n",
       "    <tr>\n",
       "      <th>/fr/od/export/?…</th>\n",
       "      <td>0.2790</td>\n",
       "      <td>23234</td>\n",
       "      <td>0.088976</td>\n",
       "    </tr>\n",
       "    <tr>\n",
       "      <th>/en/apps/…</th>\n",
       "      <td>2.8720</td>\n",
       "      <td>2645</td>\n",
       "      <td>0.083535</td>\n",
       "    </tr>\n",
       "    <tr>\n",
       "      <th>/data/dataset/…</th>\n",
       "      <td>0.1200</td>\n",
       "      <td>41924</td>\n",
       "      <td>0.069713</td>\n",
       "    </tr>\n",
       "    <tr>\n",
       "      <th>/en/dataset/…</th>\n",
       "      <td>1.7180</td>\n",
       "      <td>3043</td>\n",
       "      <td>0.060491</td>\n",
       "    </tr>\n",
       "    <tr>\n",
       "      <th>/fr?…</th>\n",
       "      <td>2.5700</td>\n",
       "      <td>2009</td>\n",
       "      <td>0.054802</td>\n",
       "    </tr>\n",
       "    <tr>\n",
       "      <th>/en/forms/contact-us?…</th>\n",
       "      <td>2.4590</td>\n",
       "      <td>1719</td>\n",
       "      <td>0.048329</td>\n",
       "    </tr>\n",
       "    <tr>\n",
       "      <th>/fr/apps/…</th>\n",
       "      <td>2.8610</td>\n",
       "      <td>1363</td>\n",
       "      <td>0.045254</td>\n",
       "    </tr>\n",
       "    <tr>\n",
       "      <th>/ckan/en/dataset?…</th>\n",
       "      <td>0.2170</td>\n",
       "      <td>17149</td>\n",
       "      <td>0.042933</td>\n",
       "    </tr>\n",
       "    <tr>\n",
       "      <th>/fr/suggested-datasets/…</th>\n",
       "      <td>2.1010</td>\n",
       "      <td>1682</td>\n",
       "      <td>0.042393</td>\n",
       "    </tr>\n",
       "    <tr>\n",
       "      <th>/en</th>\n",
       "      <td>0.1030</td>\n",
       "      <td>30017</td>\n",
       "      <td>0.041783</td>\n",
       "    </tr>\n",
       "    <tr>\n",
       "      <th>/en/forms/contact-us</th>\n",
       "      <td>2.1340</td>\n",
       "      <td>1652</td>\n",
       "      <td>0.041246</td>\n",
       "    </tr>\n",
       "    <tr>\n",
       "      <th>/fr/vote?…</th>\n",
       "      <td>0.9740</td>\n",
       "      <td>3815</td>\n",
       "      <td>0.036050</td>\n",
       "    </tr>\n",
       "    <tr>\n",
       "      <th>/en/od?…</th>\n",
       "      <td>0.0020</td>\n",
       "      <td>116233</td>\n",
       "      <td>0.035148</td>\n",
       "    </tr>\n",
       "    <tr>\n",
       "      <th>/en/external-comment/suggest-dataset/d3470a33-d8bb-4c49-b45c-14f61596b43c</th>\n",
       "      <td>1.0960</td>\n",
       "      <td>2709</td>\n",
       "      <td>0.031653</td>\n",
       "    </tr>\n",
       "    <tr>\n",
       "      <th>/ckan/fr/dataset?…</th>\n",
       "      <td>0.2350</td>\n",
       "      <td>10894</td>\n",
       "      <td>0.027886</td>\n",
       "    </tr>\n",
       "    <tr>\n",
       "      <th>/fr/formulaire/faites-nous-part-de-vos-commentaires?…</th>\n",
       "      <td>2.3790</td>\n",
       "      <td>1025</td>\n",
       "      <td>0.027705</td>\n",
       "    </tr>\n",
       "    <tr>\n",
       "      <th>/en/search/ati/reference/…</th>\n",
       "      <td>2.4320</td>\n",
       "      <td>1051</td>\n",
       "      <td>0.027368</td>\n",
       "    </tr>\n",
       "    <tr>\n",
       "      <th>/en/search/contracts/reference/…</th>\n",
       "      <td>2.2800</td>\n",
       "      <td>1264</td>\n",
       "      <td>0.025944</td>\n",
       "    </tr>\n",
       "    <tr>\n",
       "      <th>/fr/search/ati?…</th>\n",
       "      <td>3.5570</td>\n",
       "      <td>709</td>\n",
       "      <td>0.024732</td>\n",
       "    </tr>\n",
       "    <tr>\n",
       "      <th>/jsonapi/vote_result/vote_result?…</th>\n",
       "      <td>0.2480</td>\n",
       "      <td>8232</td>\n",
       "      <td>0.024349</td>\n",
       "    </tr>\n",
       "    <tr>\n",
       "      <th>/fr/od?…</th>\n",
       "      <td>0.0050</td>\n",
       "      <td>62806</td>\n",
       "      <td>0.021690</td>\n",
       "    </tr>\n",
       "    <tr>\n",
       "      <th>/data/en/api/3/action/package_search?…</th>\n",
       "      <td>0.2420</td>\n",
       "      <td>3196</td>\n",
       "      <td>0.021294</td>\n",
       "    </tr>\n",
       "    <tr>\n",
       "      <th>/fr/search/contrats?…</th>\n",
       "      <td>4.6760</td>\n",
       "      <td>468</td>\n",
       "      <td>0.020956</td>\n",
       "    </tr>\n",
       "    <tr>\n",
       "      <th>/libraries/wet-boew/js/deps/template.min.js</th>\n",
       "      <td>0.2420</td>\n",
       "      <td>7105</td>\n",
       "      <td>0.020811</td>\n",
       "    </tr>\n",
       "    <tr>\n",
       "      <th>/en/latest-apps/rss.xml?…</th>\n",
       "      <td>1.7275</td>\n",
       "      <td>942</td>\n",
       "      <td>0.020360</td>\n",
       "    </tr>\n",
       "    <tr>\n",
       "      <th>/en/4plan/…</th>\n",
       "      <td>2.5955</td>\n",
       "      <td>698</td>\n",
       "      <td>0.020265</td>\n",
       "    </tr>\n",
       "  </tbody>\n",
       "</table>\n",
       "</div>"
      ],
      "text/plain": [
       "                                                    urt_median  urt_count  \\\n",
       "request                                                                     \n",
       "/fr/search/travelq?…                                    4.3700     614524   \n",
       "/en/search/ati?…                                        3.0290     114116   \n",
       "/data/en/dataset?…                                      0.3180     589206   \n",
       "/en/search/travelq?…                                    4.7860      32569   \n",
       "/data/fr/dataset?…                                      0.2940     292330   \n",
       "/en/search/contracts?…                                  3.9330      21791   \n",
       "/data/en/dataset/…                                      0.1660     220538   \n",
       "/en?…                                                   2.0690      28642   \n",
       "/en/external-comment/dataset/…                          0.7260      68804   \n",
       "/en/comment/…                                           1.6350      24397   \n",
       "/en/search/reclassification?…                           4.2500       7243   \n",
       "/en/od/?…                                               0.1260     192959   \n",
       "/data/dataset?…                                         0.2550      70418   \n",
       "/en/vote?…                                              0.2205      36304   \n",
       "/fr/search/reclassification?…                           4.6820       3991   \n",
       "/en/search/hospitalityq?…                               4.2740       4926   \n",
       "/en/od/export/?…                                        0.2640      53970   \n",
       "/fr/od/?…                                               0.1390      88559   \n",
       "/data/fr/dataset/…                                      0.1440      77526   \n",
       "/en/suggested-datasets/…                                1.6340       7646   \n",
       "/fr/external-comment/dataset/…                          0.7740      11993   \n",
       "POST /data/api/action/package_update                    1.6370       4388   \n",
       "/fr/od/export/?…                                        0.2790      23234   \n",
       "/en/apps/…                                              2.8720       2645   \n",
       "/data/dataset/…                                         0.1200      41924   \n",
       "/en/dataset/…                                           1.7180       3043   \n",
       "/fr?…                                                   2.5700       2009   \n",
       "/en/forms/contact-us?…                                  2.4590       1719   \n",
       "/fr/apps/…                                              2.8610       1363   \n",
       "/ckan/en/dataset?…                                      0.2170      17149   \n",
       "/fr/suggested-datasets/…                                2.1010       1682   \n",
       "/en                                                     0.1030      30017   \n",
       "/en/forms/contact-us                                    2.1340       1652   \n",
       "/fr/vote?…                                              0.9740       3815   \n",
       "/en/od?…                                                0.0020     116233   \n",
       "/en/external-comment/suggest-dataset/d3470a33-d...      1.0960       2709   \n",
       "/ckan/fr/dataset?…                                      0.2350      10894   \n",
       "/fr/formulaire/faites-nous-part-de-vos-commenta...      2.3790       1025   \n",
       "/en/search/ati/reference/…                              2.4320       1051   \n",
       "/en/search/contracts/reference/…                        2.2800       1264   \n",
       "/fr/search/ati?…                                        3.5570        709   \n",
       "/jsonapi/vote_result/vote_result?…                      0.2480       8232   \n",
       "/fr/od?…                                                0.0050      62806   \n",
       "/data/en/api/3/action/package_search?…                  0.2420       3196   \n",
       "/fr/search/contrats?…                                   4.6760        468   \n",
       "/libraries/wet-boew/js/deps/template.min.js             0.2420       7105   \n",
       "/en/latest-apps/rss.xml?…                               1.7275        942   \n",
       "/en/4plan/…                                             2.5955        698   \n",
       "\n",
       "                                                    urt_sum (days)  \n",
       "request                                                             \n",
       "/fr/search/travelq?…                                     33.609304  \n",
       "/en/search/ati?…                                          2.633022  \n",
       "/data/en/dataset?…                                        2.261166  \n",
       "/en/search/travelq?…                                      1.909906  \n",
       "/data/fr/dataset?…                                        1.030901  \n",
       "/en/search/contracts?…                                    0.702893  \n",
       "/data/en/dataset/…                                        0.681972  \n",
       "/en?…                                                     0.662697  \n",
       "/en/external-comment/dataset/…                            0.600743  \n",
       "/en/comment/…                                             0.500694  \n",
       "/en/search/reclassification?…                             0.345588  \n",
       "/en/od/?…                                                 0.331499  \n",
       "/data/dataset?…                                           0.231954  \n",
       "/en/vote?…                                                0.229329  \n",
       "/fr/search/reclassification?…                             0.220799  \n",
       "/en/search/hospitalityq?…                                 0.217897  \n",
       "/en/od/export/?…                                          0.203338  \n",
       "/fr/od/?…                                                 0.171086  \n",
       "/data/fr/dataset/…                                        0.170901  \n",
       "/en/suggested-datasets/…                                  0.145712  \n",
       "/fr/external-comment/dataset/…                            0.111146  \n",
       "POST /data/api/action/package_update                      0.091119  \n",
       "/fr/od/export/?…                                          0.088976  \n",
       "/en/apps/…                                                0.083535  \n",
       "/data/dataset/…                                           0.069713  \n",
       "/en/dataset/…                                             0.060491  \n",
       "/fr?…                                                     0.054802  \n",
       "/en/forms/contact-us?…                                    0.048329  \n",
       "/fr/apps/…                                                0.045254  \n",
       "/ckan/en/dataset?…                                        0.042933  \n",
       "/fr/suggested-datasets/…                                  0.042393  \n",
       "/en                                                       0.041783  \n",
       "/en/forms/contact-us                                      0.041246  \n",
       "/fr/vote?…                                                0.036050  \n",
       "/en/od?…                                                  0.035148  \n",
       "/en/external-comment/suggest-dataset/d3470a33-d...        0.031653  \n",
       "/ckan/fr/dataset?…                                        0.027886  \n",
       "/fr/formulaire/faites-nous-part-de-vos-commenta...        0.027705  \n",
       "/en/search/ati/reference/…                                0.027368  \n",
       "/en/search/contracts/reference/…                          0.025944  \n",
       "/fr/search/ati?…                                          0.024732  \n",
       "/jsonapi/vote_result/vote_result?…                        0.024349  \n",
       "/fr/od?…                                                  0.021690  \n",
       "/data/en/api/3/action/package_search?…                    0.021294  \n",
       "/fr/search/contrats?…                                     0.020956  \n",
       "/libraries/wet-boew/js/deps/template.min.js               0.020811  \n",
       "/en/latest-apps/rss.xml?…                                 0.020360  \n",
       "/en/4plan/…                                               0.020265  "
      ]
     },
     "execution_count": 8,
     "metadata": {},
     "output_type": "execute_result"
    }
   ],
   "source": [
    "sdf = bdf.groupby(['request']).agg(['median','count','sum'])\n",
    "sdf.columns = sdf.columns.map('_'.join)\n",
    "sdf['urt_sum'] = sdf['urt_sum'] / (60*60*24)  # days\n",
    "\n",
    "busy = sdf[(sdf['urt_count'] > 10) & (sdf['urt_sum'] > 0.02)]\n",
    "busy.sort_values('urt_sum', ascending=False).rename(\n",
    "    columns={'urt_sum':'urt_sum (days)'})"
   ]
  },
  {
   "cell_type": "code",
   "execution_count": 36,
   "metadata": {},
   "outputs": [
    {
     "data": {
      "text/plain": [
       "50.239542210648146"
      ]
     },
     "execution_count": 36,
     "metadata": {},
     "output_type": "execute_result"
    }
   ],
   "source": [
    "urt_sum_sum = sdf['urt_sum'].sum()\n",
    "urt_sum_sum # total processing time in days"
   ]
  },
  {
   "cell_type": "code",
   "execution_count": 35,
   "metadata": {
    "scrolled": true
   },
   "outputs": [
    {
     "name": "stdout",
     "output_type": "stream",
     "text": [
      "39.90 days processing drupal search\n",
      "79.42 % urt\n"
     ]
    }
   ],
   "source": [
    "dsearch_sum = bdf[bdf['request'].str.contains('/search/')]['urt'].sum() / (60*60*24) # days\n",
    "print(\"%0.2f days processing drupal search\" % (dsearch_sum))\n",
    "print(\"%0.2f %% urt\" % (dsearch_sum / urt_sum_sum * 100))"
   ]
  },
  {
   "cell_type": "markdown",
   "metadata": {},
   "source": [
    "# Requests vs processing time per app"
   ]
  },
  {
   "cell_type": "code",
   "execution_count": 13,
   "metadata": {},
   "outputs": [],
   "source": [
    "df['search'] = df['urt'].notna() & df['request'].str.contains(r'/(?:od|bn|ct|ei|gc|nap|si|qp|sd)/')\n",
    "df['ckan'] = df['urt'].notna() & df['request'].str.contains(' /data/')\n",
    "df['drupal'] = df['urt'].notna() & ~ df['search'] & ~ df['ckan']"
   ]
  },
  {
   "cell_type": "code",
   "execution_count": 37,
   "metadata": {},
   "outputs": [
    {
     "data": {
      "image/png": "[encoded data removed]",
      "text/plain": [
       "<Figure size 432x288 with 1 Axes>"
      ]
     },
     "metadata": {
      "needs_background": "light"
     },
     "output_type": "display_data"
    }
   ],
   "source": [
    "from matplotlib import pyplot as plt\n",
    "fig, ax = plt.subplots()\n",
    "ax.hist(df[df['drupal']]['urt'], alpha=0.5, bins=100, range=[0,10],  label='drupal')\n",
    "ax.hist(df[df['ckan']]['urt'], alpha=0.5, bins=100, range=[0,10],  label='ckan')\n",
    "ax.hist(df[df['search']]['urt'], alpha=0.5, bins=100, range=[0,10], label='search')\n",
    "ax.legend(loc='upper right')\n",
    "ax.set_ylabel('# requests')\n",
    "ax.set_xlabel('processing time (s)')\n",
    "plt.show()"
   ]
  },
  {
   "cell_type": "markdown",
   "metadata": {},
   "source": [
    "# Processing time per CKAN API call"
   ]
  },
  {
   "cell_type": "code",
   "execution_count": 17,
   "metadata": {},
   "outputs": [],
   "source": [
    "cadf = df[df['request'].str.contains('/action/')][\n",
    "    ['request','urt']].copy(deep=True)\n",
    "cadf['request'] = cadf['request'].str.extract(r'/action/(\\w+)')"
   ]
  },
  {
   "cell_type": "code",
   "execution_count": 18,
   "metadata": {},
   "outputs": [
    {
     "data": {
      "text/html": [
       "<div>\n",
       "<style scoped>\n",
       "    .dataframe tbody tr th:only-of-type {\n",
       "        vertical-align: middle;\n",
       "    }\n",
       "\n",
       "    .dataframe tbody tr th {\n",
       "        vertical-align: top;\n",
       "    }\n",
       "\n",
       "    .dataframe thead th {\n",
       "        text-align: right;\n",
       "    }\n",
       "</style>\n",
       "<table border=\"1\" class=\"dataframe\">\n",
       "  <thead>\n",
       "    <tr style=\"text-align: right;\">\n",
       "      <th></th>\n",
       "      <th>urt_median</th>\n",
       "      <th>urt_count</th>\n",
       "      <th>urt_sum (minutes)</th>\n",
       "    </tr>\n",
       "    <tr>\n",
       "      <th>request</th>\n",
       "      <th></th>\n",
       "      <th></th>\n",
       "      <th></th>\n",
       "    </tr>\n",
       "  </thead>\n",
       "  <tbody>\n",
       "    <tr>\n",
       "      <th>package_update</th>\n",
       "      <td>1.6370</td>\n",
       "      <td>4388</td>\n",
       "      <td>131.211417</td>\n",
       "    </tr>\n",
       "    <tr>\n",
       "      <th>package_search</th>\n",
       "      <td>0.2430</td>\n",
       "      <td>3400</td>\n",
       "      <td>35.719583</td>\n",
       "    </tr>\n",
       "    <tr>\n",
       "      <th>package_show</th>\n",
       "      <td>0.0410</td>\n",
       "      <td>47365</td>\n",
       "      <td>35.139750</td>\n",
       "    </tr>\n",
       "    <tr>\n",
       "      <th>organization_list</th>\n",
       "      <td>5.9285</td>\n",
       "      <td>222</td>\n",
       "      <td>22.065300</td>\n",
       "    </tr>\n",
       "    <tr>\n",
       "      <th>package_create</th>\n",
       "      <td>3.9865</td>\n",
       "      <td>22</td>\n",
       "      <td>1.413550</td>\n",
       "    </tr>\n",
       "    <tr>\n",
       "      <th>package_list</th>\n",
       "      <td>1.5085</td>\n",
       "      <td>20</td>\n",
       "      <td>0.484917</td>\n",
       "    </tr>\n",
       "    <tr>\n",
       "      <th>recently_changed_packages_activity_list</th>\n",
       "      <td>0.1530</td>\n",
       "      <td>57</td>\n",
       "      <td>0.149050</td>\n",
       "    </tr>\n",
       "    <tr>\n",
       "      <th>package_delete</th>\n",
       "      <td>0.9350</td>\n",
       "      <td>8</td>\n",
       "      <td>0.125683</td>\n",
       "    </tr>\n",
       "    <tr>\n",
       "      <th>resource_search</th>\n",
       "      <td>3.3070</td>\n",
       "      <td>1</td>\n",
       "      <td>0.055117</td>\n",
       "    </tr>\n",
       "    <tr>\n",
       "      <th>help_show</th>\n",
       "      <td>0.0150</td>\n",
       "      <td>16</td>\n",
       "      <td>0.004067</td>\n",
       "    </tr>\n",
       "    <tr>\n",
       "      <th>tag_show</th>\n",
       "      <td>0.0220</td>\n",
       "      <td>5</td>\n",
       "      <td>0.001850</td>\n",
       "    </tr>\n",
       "    <tr>\n",
       "      <th>group_show</th>\n",
       "      <td>0.0220</td>\n",
       "      <td>3</td>\n",
       "      <td>0.001083</td>\n",
       "    </tr>\n",
       "    <tr>\n",
       "      <th>datastore_search</th>\n",
       "      <td>0.0200</td>\n",
       "      <td>2</td>\n",
       "      <td>0.000667</td>\n",
       "    </tr>\n",
       "    <tr>\n",
       "      <th>favicon</th>\n",
       "      <td>0.0185</td>\n",
       "      <td>2</td>\n",
       "      <td>0.000617</td>\n",
       "    </tr>\n",
       "    <tr>\n",
       "      <th>tag_list</th>\n",
       "      <td>0.0180</td>\n",
       "      <td>1</td>\n",
       "      <td>0.000300</td>\n",
       "    </tr>\n",
       "    <tr>\n",
       "      <th>group_list</th>\n",
       "      <td>0.0180</td>\n",
       "      <td>1</td>\n",
       "      <td>0.000300</td>\n",
       "    </tr>\n",
       "    <tr>\n",
       "      <th>user_list</th>\n",
       "      <td>0.0160</td>\n",
       "      <td>1</td>\n",
       "      <td>0.000267</td>\n",
       "    </tr>\n",
       "    <tr>\n",
       "      <th>status_show</th>\n",
       "      <td>0.0140</td>\n",
       "      <td>1</td>\n",
       "      <td>0.000233</td>\n",
       "    </tr>\n",
       "  </tbody>\n",
       "</table>\n",
       "</div>"
      ],
      "text/plain": [
       "                                         urt_median  urt_count  \\\n",
       "request                                                          \n",
       "package_update                               1.6370       4388   \n",
       "package_search                               0.2430       3400   \n",
       "package_show                                 0.0410      47365   \n",
       "organization_list                            5.9285        222   \n",
       "package_create                               3.9865         22   \n",
       "package_list                                 1.5085         20   \n",
       "recently_changed_packages_activity_list      0.1530         57   \n",
       "package_delete                               0.9350          8   \n",
       "resource_search                              3.3070          1   \n",
       "help_show                                    0.0150         16   \n",
       "tag_show                                     0.0220          5   \n",
       "group_show                                   0.0220          3   \n",
       "datastore_search                             0.0200          2   \n",
       "favicon                                      0.0185          2   \n",
       "tag_list                                     0.0180          1   \n",
       "group_list                                   0.0180          1   \n",
       "user_list                                    0.0160          1   \n",
       "status_show                                  0.0140          1   \n",
       "\n",
       "                                         urt_sum (minutes)  \n",
       "request                                                     \n",
       "package_update                                  131.211417  \n",
       "package_search                                   35.719583  \n",
       "package_show                                     35.139750  \n",
       "organization_list                                22.065300  \n",
       "package_create                                    1.413550  \n",
       "package_list                                      0.484917  \n",
       "recently_changed_packages_activity_list           0.149050  \n",
       "package_delete                                    0.125683  \n",
       "resource_search                                   0.055117  \n",
       "help_show                                         0.004067  \n",
       "tag_show                                          0.001850  \n",
       "group_show                                        0.001083  \n",
       "datastore_search                                  0.000667  \n",
       "favicon                                           0.000617  \n",
       "tag_list                                          0.000300  \n",
       "group_list                                        0.000300  \n",
       "user_list                                         0.000267  \n",
       "status_show                                       0.000233  "
      ]
     },
     "execution_count": 18,
     "metadata": {},
     "output_type": "execute_result"
    }
   ],
   "source": [
    "scadf = cadf.groupby(['request']).agg(['median','count','sum'])\n",
    "scadf.columns = scadf.columns.map('_'.join)\n",
    "scadf['urt_sum'] = scadf['urt_sum'] / 60  # minutes\n",
    "scadf.sort_values('urt_sum', ascending=False).rename(\n",
    "    columns={'urt_sum':'urt_sum (minutes)'})"
   ]
  },
  {
   "cell_type": "markdown",
   "metadata": {},
   "source": [
    "# Cache simulation"
   ]
  },
  {
   "cell_type": "code",
   "execution_count": 19,
   "metadata": {},
   "outputs": [],
   "source": [
    "import heapq\n",
    "from datetime import datetime, timedelta\n",
    "\n",
    "def csim(expire):\n",
    "    h = []\n",
    "    c = set()\n",
    "    def lookup(row):\n",
    "        dt = row['date']\n",
    "        req = row['request']\n",
    "        while h and h[0][0] + expire < dt:\n",
    "            c.remove(h[0][1])\n",
    "            heapq.heappop(h)\n",
    "        if req in c:\n",
    "            return True\n",
    "        heapq.heappush(h, (dt, req))\n",
    "        c.add(req)\n",
    "        return False\n",
    "    return lookup"
   ]
  },
  {
   "cell_type": "code",
   "execution_count": 20,
   "metadata": {},
   "outputs": [],
   "source": [
    "cdf = df[df['urt'].notna() & df['request'].str.match('GET ')][\n",
    "    ['ogpweb#','date','request','urt']].copy(deep=True)\n",
    "cdf.sort_values(by='date', inplace=True)"
   ]
  },
  {
   "cell_type": "code",
   "execution_count": 30,
   "metadata": {},
   "outputs": [],
   "source": [
    "cdf['1dhit'] = cdf.apply(csim(timedelta(days=1)), axis=1)"
   ]
  },
  {
   "cell_type": "code",
   "execution_count": 38,
   "metadata": {},
   "outputs": [
    {
     "name": "stdout",
     "output_type": "stream",
     "text": [
      "81.08 hours saved with 1d cache\n",
      "6.72 % savings\n"
     ]
    }
   ],
   "source": [
    "s = cdf[cdf['1dhit']][['urt']].sum()\n",
    "print(\"%0.2f hours saved with 1d cache\" % (s / 60 / 60))\n",
    "print(\"%0.2f %% savings\" % (s / 60 / 60 / 24 / urt_sum_sum * 100))"
   ]
  },
  {
   "cell_type": "code",
   "execution_count": 32,
   "metadata": {},
   "outputs": [],
   "source": [
    "cdf['1hhit'] = cdf.apply(csim(timedelta(hours=1)), axis=1)"
   ]
  },
  {
   "cell_type": "code",
   "execution_count": 39,
   "metadata": {},
   "outputs": [
    {
     "name": "stdout",
     "output_type": "stream",
     "text": [
      "41.01 hours saved with 1h cache\n",
      "3.40 % savings\n"
     ]
    }
   ],
   "source": [
    "s = cdf[cdf['1hhit']][['urt']].sum()\n",
    "print(\"%0.2f hours saved with 1h cache\" % (s / 60 / 60))\n",
    "print(\"%0.2f %% savings\" % (s / 60 / 60 / 24 / urt_sum_sum * 100))"
   ]
  },
  {
   "cell_type": "code",
   "execution_count": 24,
   "metadata": {},
   "outputs": [],
   "source": [
    "cdf['5mhit'] = cdf.apply(csim(timedelta(minutes=5)), axis=1)"
   ]
  },
  {
   "cell_type": "code",
   "execution_count": 40,
   "metadata": {},
   "outputs": [
    {
     "name": "stdout",
     "output_type": "stream",
     "text": [
      "23.61 hours saved with 5m cache\n",
      "1.96 % savings\n"
     ]
    }
   ],
   "source": [
    "s = cdf[cdf['5mhit']][['urt']].sum()\n",
    "print(\"%0.2f hours saved with 5m cache\" % (s / 60 / 60))\n",
    "print(\"%0.2f %% savings\" % (s / 60 / 60 / 24 / urt_sum_sum * 100))"
   ]
  },
  {
   "cell_type": "markdown",
   "metadata": {},
   "source": [
    "# Requests vs date per app"
   ]
  },
  {
   "cell_type": "code",
   "execution_count": 34,
   "metadata": {},
   "outputs": [
    {
     "data": {
      "image/png": "[encoded data removed]",
      "text/plain": [
       "<Figure size 432x288 with 1 Axes>"
      ]
     },
     "metadata": {
      "needs_background": "light"
     },
     "output_type": "display_data"
    }
   ],
   "source": [
    "from matplotlib import pyplot as plt\n",
    "fig, ax = plt.subplots()\n",
    "ax.hist(df[df['drupal']]['date'], alpha=0.5, bins=100, label='drupal')\n",
    "ax.hist(df[df['ckan']]['date'], alpha=0.5, bins=100, label='ckan')\n",
    "ax.hist(df[df['search']]['date'], alpha=0.5, bins=100, label='search')\n",
    "ax.legend(loc='upper right')\n",
    "ax.set_ylabel('# requests')\n",
    "plt.xticks(rotation=90)\n",
    "plt.show()"
   ]
  },
  {
   "cell_type": "code",
   "execution_count": 51,
   "metadata": {},
   "outputs": [
    {
     "data": {
      "text/plain": [
       "39.89120657407407"
      ]
     },
     "execution_count": 51,
     "metadata": {},
     "output_type": "execute_result"
    }
   ],
   "source": [
    "adf = df[df['date'] < datetime(2020,9,19)]\n",
    "a_sum_sum = adf['urt'].sum() / (60*60*24)\n",
    "a_sum_sum # total processing time < 2019-09-19 in days"
   ]
  },
  {
   "cell_type": "code",
   "execution_count": 55,
   "metadata": {
    "scrolled": true
   },
   "outputs": [
    {
     "name": "stdout",
     "output_type": "stream",
     "text": [
      "36.15 days processing drupal search\n",
      "90.62 % urt before 2019-09-19\n"
     ]
    }
   ],
   "source": [
    "asearch_sum = adf[adf['request'].str.contains('/search/')]['urt'].sum() / (60*60*24) # days\n",
    "print(\"%0.2f days processing drupal search\" % (asearch_sum))\n",
    "print(\"%0.2f %% urt before 2019-09-19\" % (asearch_sum / a_sum_sum * 100))"
   ]
  },
  {
   "cell_type": "code",
   "execution_count": 54,
   "metadata": {},
   "outputs": [
    {
     "data": {
      "text/plain": [
       "6.674645011574073"
      ]
     },
     "execution_count": 54,
     "metadata": {},
     "output_type": "execute_result"
    }
   ],
   "source": [
    "zdf = df[df['date'] > datetime(2020,9,20)]\n",
    "z_sum_sum = zdf['urt'].sum() / (60*60*24)\n",
    "z_sum_sum # total processing time > 2019-09-20 in days"
   ]
  },
  {
   "cell_type": "code",
   "execution_count": 56,
   "metadata": {},
   "outputs": [
    {
     "name": "stdout",
     "output_type": "stream",
     "text": [
      "1.44 days processing drupal search\n",
      "21.62 % urt after 2019-09-20\n"
     ]
    }
   ],
   "source": [
    "zsearch_sum = zdf[zdf['request'].str.contains('/search/')]['urt'].sum() / (60*60*24) # days\n",
    "print(\"%0.2f days processing drupal search\" % (zsearch_sum))\n",
    "print(\"%0.2f %% urt after 2019-09-20\" % (zsearch_sum / z_sum_sum * 100))"
   ]
  }
 ],
 "metadata": {
  "kernelspec": {
   "display_name": "Python 3",
   "language": "python",
   "name": "python3"
  },
  "language_info": {
   "codemirror_mode": {
    "name": "ipython",
    "version": 3
   },
   "file_extension": ".py",
   "mimetype": "text/x-python",
   "name": "python",
   "nbconvert_exporter": "python",
   "pygments_lexer": "ipython3",
   "version": "3.6.9"
  }
 },
 "nbformat": 4,
 "nbformat_minor": 2
}
