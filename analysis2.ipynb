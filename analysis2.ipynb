{
 "cells": [
  {
   "cell_type": "code",
   "execution_count": 1,
   "metadata": {},
   "outputs": [],
   "source": [
    "import pandas as pd\n",
    "\n",
    "df = pd.read_csv(\"logs2.csv.gz\", parse_dates=[1])"
   ]
  },
  {
   "cell_type": "code",
   "execution_count": 2,
   "metadata": {},
   "outputs": [
    {
     "data": {
      "text/plain": [
       "ogpweb#               int64\n",
       "date         datetime64[ns]\n",
       "request              object\n",
       "code                  int64\n",
       "bytes                 int64\n",
       "referrer             object\n",
       "useragent            object\n",
       "source               object\n",
       "rt                  float64\n",
       "urt                 float64\n",
       "dtype: object"
      ]
     },
     "execution_count": 2,
     "metadata": {},
     "output_type": "execute_result"
    }
   ],
   "source": [
    "df.dtypes"
   ]
  },
  {
   "cell_type": "code",
   "execution_count": 48,
   "metadata": {},
   "outputs": [
    {
     "data": {
      "image/png": "[encoded data removed]",
      "text/plain": [
       "<Figure size 432x288 with 1 Axes>"
      ]
     },
     "metadata": {
      "needs_background": "light"
     },
     "output_type": "display_data"
    }
   ],
   "source": [
    "ax = df['urt'].plot.hist(bins=100, range=[0,20])"
   ]
  },
  {
   "cell_type": "code",
   "execution_count": 6,
   "metadata": {},
   "outputs": [],
   "source": [
    "def bucket(r):\n",
    "    r = r.rsplit('HTTP/')[0].split('GET ')[-1]\n",
    "    for s in ('?', '/dataset/', '/reference/', '/inventory/',\n",
    "              '/comment/', '/node/', '/suggested-datasets/',\n",
    "              '/4plan/', '/apps/'):\n",
    "        if s in r:\n",
    "            r = r.split(s)[0] + s + '…'\n",
    "    return r\n",
    "bdf = df[['request','urt']].copy(deep=True)\n",
    "bdf['request'] = bdf['request'].map(bucket)"
   ]
  },
  {
   "cell_type": "code",
   "execution_count": 11,
   "metadata": {},
   "outputs": [
    {
     "data": {
      "text/plain": [
       "64"
      ]
     },
     "execution_count": 11,
     "metadata": {},
     "output_type": "execute_result"
    }
   ],
   "source": [
    "day_budget = 4 * 8 * 2\n",
    "day_budget"
   ]
  },
  {
   "cell_type": "code",
   "execution_count": 33,
   "metadata": {
    "scrolled": false
   },
   "outputs": [
    {
     "data": {
      "text/html": [
       "<div>\n",
       "<style scoped>\n",
       "    .dataframe tbody tr th:only-of-type {\n",
       "        vertical-align: middle;\n",
       "    }\n",
       "\n",
       "    .dataframe tbody tr th {\n",
       "        vertical-align: top;\n",
       "    }\n",
       "\n",
       "    .dataframe thead th {\n",
       "        text-align: right;\n",
       "    }\n",
       "</style>\n",
       "<table border=\"1\" class=\"dataframe\">\n",
       "  <thead>\n",
       "    <tr style=\"text-align: right;\">\n",
       "      <th></th>\n",
       "      <th>urt_median</th>\n",
       "      <th>urt_count</th>\n",
       "      <th>urt_sum (days)</th>\n",
       "    </tr>\n",
       "    <tr>\n",
       "      <th>request</th>\n",
       "      <th></th>\n",
       "      <th></th>\n",
       "      <th></th>\n",
       "    </tr>\n",
       "  </thead>\n",
       "  <tbody>\n",
       "    <tr>\n",
       "      <th>/fr/search/travelq?…</th>\n",
       "      <td>4.4930</td>\n",
       "      <td>620529</td>\n",
       "      <td>37.555687</td>\n",
       "    </tr>\n",
       "    <tr>\n",
       "      <th>/fr/search/contrats?…</th>\n",
       "      <td>5.8720</td>\n",
       "      <td>36149</td>\n",
       "      <td>2.901315</td>\n",
       "    </tr>\n",
       "    <tr>\n",
       "      <th>/en/search/travelq?…</th>\n",
       "      <td>4.7770</td>\n",
       "      <td>36571</td>\n",
       "      <td>2.251064</td>\n",
       "    </tr>\n",
       "    <tr>\n",
       "      <th>/en/search/reclassification?…</th>\n",
       "      <td>4.5850</td>\n",
       "      <td>23679</td>\n",
       "      <td>1.424887</td>\n",
       "    </tr>\n",
       "    <tr>\n",
       "      <th>/data/en/dataset?…</th>\n",
       "      <td>0.4020</td>\n",
       "      <td>173048</td>\n",
       "      <td>0.823992</td>\n",
       "    </tr>\n",
       "    <tr>\n",
       "      <th>/en/search/ati?…</th>\n",
       "      <td>0.1410</td>\n",
       "      <td>11602</td>\n",
       "      <td>0.218162</td>\n",
       "    </tr>\n",
       "    <tr>\n",
       "      <th>/fr/search/travela?…</th>\n",
       "      <td>4.4740</td>\n",
       "      <td>3196</td>\n",
       "      <td>0.175357</td>\n",
       "    </tr>\n",
       "    <tr>\n",
       "      <th>/en?…</th>\n",
       "      <td>2.1010</td>\n",
       "      <td>4176</td>\n",
       "      <td>0.121397</td>\n",
       "    </tr>\n",
       "    <tr>\n",
       "      <th>/data/en/dataset/…</th>\n",
       "      <td>0.1550</td>\n",
       "      <td>49969</td>\n",
       "      <td>0.117959</td>\n",
       "    </tr>\n",
       "    <tr>\n",
       "      <th>/en/external-comment/dataset/…</th>\n",
       "      <td>0.7060</td>\n",
       "      <td>11591</td>\n",
       "      <td>0.114884</td>\n",
       "    </tr>\n",
       "    <tr>\n",
       "      <th>/fr/search/reclassification?…</th>\n",
       "      <td>4.8250</td>\n",
       "      <td>1825</td>\n",
       "      <td>0.110191</td>\n",
       "    </tr>\n",
       "    <tr>\n",
       "      <th>/data/dataset?…</th>\n",
       "      <td>0.2890</td>\n",
       "      <td>21333</td>\n",
       "      <td>0.083256</td>\n",
       "    </tr>\n",
       "    <tr>\n",
       "      <th>/en/comment/…</th>\n",
       "      <td>2.0390</td>\n",
       "      <td>2299</td>\n",
       "      <td>0.065792</td>\n",
       "    </tr>\n",
       "    <tr>\n",
       "      <th>/data/fr/dataset?…</th>\n",
       "      <td>0.3060</td>\n",
       "      <td>16027</td>\n",
       "      <td>0.061142</td>\n",
       "    </tr>\n",
       "    <tr>\n",
       "      <th>/en/vote?…</th>\n",
       "      <td>0.8690</td>\n",
       "      <td>5894</td>\n",
       "      <td>0.052028</td>\n",
       "    </tr>\n",
       "    <tr>\n",
       "      <th>/en/suggested-datasets/…</th>\n",
       "      <td>2.3830</td>\n",
       "      <td>1617</td>\n",
       "      <td>0.048898</td>\n",
       "    </tr>\n",
       "    <tr>\n",
       "      <th>/fr/search/ati?…</th>\n",
       "      <td>3.8880</td>\n",
       "      <td>705</td>\n",
       "      <td>0.035828</td>\n",
       "    </tr>\n",
       "    <tr>\n",
       "      <th>/en/search/contracts?…</th>\n",
       "      <td>0.1220</td>\n",
       "      <td>1694</td>\n",
       "      <td>0.031584</td>\n",
       "    </tr>\n",
       "    <tr>\n",
       "      <th>/data/fr/dataset/…</th>\n",
       "      <td>0.1540</td>\n",
       "      <td>12567</td>\n",
       "      <td>0.027768</td>\n",
       "    </tr>\n",
       "    <tr>\n",
       "      <th>/fr/search/travelq/reference/…</th>\n",
       "      <td>2.4180</td>\n",
       "      <td>682</td>\n",
       "      <td>0.024020</td>\n",
       "    </tr>\n",
       "    <tr>\n",
       "      <th>/fr/search/contracts/reference/…</th>\n",
       "      <td>2.6110</td>\n",
       "      <td>475</td>\n",
       "      <td>0.022415</td>\n",
       "    </tr>\n",
       "    <tr>\n",
       "      <th>/fr/suggested-datasets/…</th>\n",
       "      <td>3.3375</td>\n",
       "      <td>526</td>\n",
       "      <td>0.020166</td>\n",
       "    </tr>\n",
       "  </tbody>\n",
       "</table>\n",
       "</div>"
      ],
      "text/plain": [
       "                                  urt_median  urt_count  urt_sum (days)\n",
       "request                                                                \n",
       "/fr/search/travelq?…                  4.4930     620529       37.555687\n",
       "/fr/search/contrats?…                 5.8720      36149        2.901315\n",
       "/en/search/travelq?…                  4.7770      36571        2.251064\n",
       "/en/search/reclassification?…         4.5850      23679        1.424887\n",
       "/data/en/dataset?…                    0.4020     173048        0.823992\n",
       "/en/search/ati?…                      0.1410      11602        0.218162\n",
       "/fr/search/travela?…                  4.4740       3196        0.175357\n",
       "/en?…                                 2.1010       4176        0.121397\n",
       "/data/en/dataset/…                    0.1550      49969        0.117959\n",
       "/en/external-comment/dataset/…        0.7060      11591        0.114884\n",
       "/fr/search/reclassification?…         4.8250       1825        0.110191\n",
       "/data/dataset?…                       0.2890      21333        0.083256\n",
       "/en/comment/…                         2.0390       2299        0.065792\n",
       "/data/fr/dataset?…                    0.3060      16027        0.061142\n",
       "/en/vote?…                            0.8690       5894        0.052028\n",
       "/en/suggested-datasets/…              2.3830       1617        0.048898\n",
       "/fr/search/ati?…                      3.8880        705        0.035828\n",
       "/en/search/contracts?…                0.1220       1694        0.031584\n",
       "/data/fr/dataset/…                    0.1540      12567        0.027768\n",
       "/fr/search/travelq/reference/…        2.4180        682        0.024020\n",
       "/fr/search/contracts/reference/…      2.6110        475        0.022415\n",
       "/fr/suggested-datasets/…              3.3375        526        0.020166"
      ]
     },
     "execution_count": 33,
     "metadata": {},
     "output_type": "execute_result"
    }
   ],
   "source": [
    "sdf = bdf.groupby(['request']).agg(['median','count','sum'])\n",
    "sdf.columns = sdf.columns.map('_'.join)\n",
    "sdf['urt_sum'] = sdf['urt_sum'] / (60*60*24)  # days\n",
    "\n",
    "busy = sdf[(sdf['urt_count'] > 10) & (sdf['urt_sum'] > 0.02)]\n",
    "busy.sort_values('urt_sum', ascending=False).rename(\n",
    "    columns={'urt_sum':'urt_sum (days)'})"
   ]
  },
  {
   "cell_type": "code",
   "execution_count": 29,
   "metadata": {},
   "outputs": [
    {
     "data": {
      "text/plain": [
       "46.99050006944476"
      ]
     },
     "execution_count": 29,
     "metadata": {},
     "output_type": "execute_result"
    }
   ],
   "source": [
    "urt_sum_sum = sdf['urt_sum'].sum()\n",
    "urt_sum_sum # days"
   ]
  },
  {
   "cell_type": "code",
   "execution_count": 44,
   "metadata": {
    "scrolled": true
   },
   "outputs": [
    {
     "name": "stdout",
     "output_type": "stream",
     "text": [
      "44.85 days\n",
      "95.44 % urt\n"
     ]
    }
   ],
   "source": [
    "dsearch_sum = bdf[bdf['request'].str.contains('/search/')]['urt'].sum() / (60*60*24) # days\n",
    "print(\"%0.2f days\" % (dsearch_sum))\n",
    "print(\"%0.2f %% urt\" % (dsearch_sum / urt_sum_sum * 100))"
   ]
  },
  {
   "cell_type": "code",
   "execution_count": 13,
   "metadata": {},
   "outputs": [],
   "source": [
    "df['search'] = df['urt'].notna() & df['request'].str.contains(r'/(?:od|bn|ct|ei|gc|nap|si|qp|sd)/')\n",
    "df['ckan'] = df['urt'].notna() & df['request'].str.contains(' /data/')\n",
    "df['drupal'] = df['urt'].notna() & ~ df['search'] & ~ df['ckan']"
   ]
  },
  {
   "cell_type": "code",
   "execution_count": 49,
   "metadata": {},
   "outputs": [
    {
     "data": {
      "image/png": "[encoded data removed]",
      "text/plain": [
       "<Figure size 432x288 with 1 Axes>"
      ]
     },
     "metadata": {
      "needs_background": "light"
     },
     "output_type": "display_data"
    }
   ],
   "source": [
    "from matplotlib import pyplot as plt\n",
    "fig, ax = plt.subplots()\n",
    "ax.hist(df[df['drupal']]['urt'], alpha=0.5, bins=100, range=[0,20],  label='drupal')\n",
    "ax.hist(df[df['ckan']]['urt'], alpha=0.5, bins=100, range=[0,20],  label='ckan')\n",
    "ax.hist(df[df['search']]['urt'], alpha=0.5, bins=100, range=[0,20], label='search')\n",
    "ax.legend(loc='upper right')\n",
    "ax.set_ylabel('# requests')\n",
    "ax.set_xlabel('response time (s)')\n",
    "plt.show()"
   ]
  },
  {
   "cell_type": "code",
   "execution_count": 15,
   "metadata": {},
   "outputs": [],
   "source": [
    "cadf = df[df['request'].str.contains('/action/')][\n",
    "    ['request','urt']].copy(deep=True)\n",
    "cadf['request'] = cadf['request'].str.extract(r'/action/(\\w+)')"
   ]
  },
  {
   "cell_type": "code",
   "execution_count": 16,
   "metadata": {},
   "outputs": [
    {
     "data": {
      "text/html": [
       "<div>\n",
       "<style scoped>\n",
       "    .dataframe tbody tr th:only-of-type {\n",
       "        vertical-align: middle;\n",
       "    }\n",
       "\n",
       "    .dataframe tbody tr th {\n",
       "        vertical-align: top;\n",
       "    }\n",
       "\n",
       "    .dataframe thead th {\n",
       "        text-align: right;\n",
       "    }\n",
       "</style>\n",
       "<table border=\"1\" class=\"dataframe\">\n",
       "  <thead>\n",
       "    <tr style=\"text-align: right;\">\n",
       "      <th></th>\n",
       "      <th>urt_median</th>\n",
       "      <th>urt_count</th>\n",
       "      <th>urt_sum (minutes)</th>\n",
       "    </tr>\n",
       "    <tr>\n",
       "      <th>request</th>\n",
       "      <th></th>\n",
       "      <th></th>\n",
       "      <th></th>\n",
       "    </tr>\n",
       "  </thead>\n",
       "  <tbody>\n",
       "    <tr>\n",
       "      <th>package_show</th>\n",
       "      <td>0.042</td>\n",
       "      <td>6667</td>\n",
       "      <td>4.991067</td>\n",
       "    </tr>\n",
       "    <tr>\n",
       "      <th>organization_list</th>\n",
       "      <td>6.326</td>\n",
       "      <td>45</td>\n",
       "      <td>4.787300</td>\n",
       "    </tr>\n",
       "    <tr>\n",
       "      <th>package_update</th>\n",
       "      <td>2.366</td>\n",
       "      <td>33</td>\n",
       "      <td>1.438800</td>\n",
       "    </tr>\n",
       "    <tr>\n",
       "      <th>package_search</th>\n",
       "      <td>0.344</td>\n",
       "      <td>110</td>\n",
       "      <td>0.875183</td>\n",
       "    </tr>\n",
       "    <tr>\n",
       "      <th>package_list</th>\n",
       "      <td>1.523</td>\n",
       "      <td>10</td>\n",
       "      <td>0.341133</td>\n",
       "    </tr>\n",
       "    <tr>\n",
       "      <th>recently_changed_packages_activity_list</th>\n",
       "      <td>0.153</td>\n",
       "      <td>12</td>\n",
       "      <td>0.030767</td>\n",
       "    </tr>\n",
       "    <tr>\n",
       "      <th>help_show</th>\n",
       "      <td>0.014</td>\n",
       "      <td>1</td>\n",
       "      <td>0.000233</td>\n",
       "    </tr>\n",
       "  </tbody>\n",
       "</table>\n",
       "</div>"
      ],
      "text/plain": [
       "                                         urt_median  urt_count  \\\n",
       "request                                                          \n",
       "package_show                                  0.042       6667   \n",
       "organization_list                             6.326         45   \n",
       "package_update                                2.366         33   \n",
       "package_search                                0.344        110   \n",
       "package_list                                  1.523         10   \n",
       "recently_changed_packages_activity_list       0.153         12   \n",
       "help_show                                     0.014          1   \n",
       "\n",
       "                                         urt_sum (minutes)  \n",
       "request                                                     \n",
       "package_show                                      4.991067  \n",
       "organization_list                                 4.787300  \n",
       "package_update                                    1.438800  \n",
       "package_search                                    0.875183  \n",
       "package_list                                      0.341133  \n",
       "recently_changed_packages_activity_list           0.030767  \n",
       "help_show                                         0.000233  "
      ]
     },
     "execution_count": 16,
     "metadata": {},
     "output_type": "execute_result"
    }
   ],
   "source": [
    "scadf = cadf.groupby(['request']).agg(['median','count','sum'])\n",
    "scadf.columns = scadf.columns.map('_'.join)\n",
    "scadf['urt_sum'] = scadf['urt_sum'] / 60  # minutes\n",
    "scadf.sort_values('urt_sum', ascending=False).rename(\n",
    "    columns={'urt_sum':'urt_sum (minutes)'})"
   ]
  },
  {
   "cell_type": "code",
   "execution_count": 17,
   "metadata": {},
   "outputs": [],
   "source": [
    "import heapq\n",
    "from datetime import datetime, timedelta\n",
    "\n",
    "def csim(expire):\n",
    "    h = []\n",
    "    c = set()\n",
    "    def lookup(row):\n",
    "        dt = row['date']\n",
    "        req = row['request']\n",
    "        while h and h[0][0] + expire < dt:\n",
    "            c.remove(h[0][1])\n",
    "            heapq.heappop(h)\n",
    "        if req in c:\n",
    "            return True\n",
    "        heapq.heappush(h, (dt, req))\n",
    "        c.add(req)\n",
    "        return False\n",
    "    return lookup"
   ]
  },
  {
   "cell_type": "code",
   "execution_count": 20,
   "metadata": {},
   "outputs": [],
   "source": [
    "cdf = df[df['urt'].notna() & df['request'].str.match('GET ')][\n",
    "    ['ogpweb#','date','request','urt']].copy(deep=True)\n",
    "cdf.sort_values(by='date', inplace=True)"
   ]
  },
  {
   "cell_type": "code",
   "execution_count": 19,
   "metadata": {},
   "outputs": [],
   "source": [
    "#cdf['1dhit'] = cdf.apply(csim(timedelta(days=1)), axis=1)"
   ]
  },
  {
   "cell_type": "code",
   "execution_count": 21,
   "metadata": {},
   "outputs": [],
   "source": [
    "#s = cdf[cdf['1dhit']][['urt']].sum()\n",
    "#print(\"%0.2f hours\" % (s / 60 / 60))\n",
    "#print(\"%0.2f %% savings\" % (s / 60 / 60 / 24 / days_budget * 100))"
   ]
  },
  {
   "cell_type": "code",
   "execution_count": 22,
   "metadata": {},
   "outputs": [],
   "source": [
    "cdf['5mhit'] = cdf.apply(csim(timedelta(minutes=5)), axis=1)"
   ]
  },
  {
   "cell_type": "code",
   "execution_count": 25,
   "metadata": {},
   "outputs": [
    {
     "name": "stdout",
     "output_type": "stream",
     "text": [
      "3.73 hours\n",
      "0.33 % savings\n"
     ]
    }
   ],
   "source": [
    "s = cdf[cdf['5mhit']][['urt']].sum()\n",
    "print(\"%0.2f hours\" % (s / 60 / 60))\n",
    "print(\"%0.2f %% savings\" % (s / 60 / 60 / 24 / urt_sum_sum * 100))"
   ]
  },
  {
   "cell_type": "code",
   "execution_count": 26,
   "metadata": {},
   "outputs": [],
   "source": [
    "#cdf[(cdf['date'] > datetime(2020,9,4,1,1,1)) &\n",
    "#    (cdf['date'] < datetime(2020,9,4,1,1,10))]"
   ]
  },
  {
   "cell_type": "code",
   "execution_count": 71,
   "metadata": {},
   "outputs": [],
   "source": [
    "#df['tod'] = df['date'].apply(lambda x: x.timestamp())\n",
    "#from matplotlib import pyplot as plt\n",
    "#fig, ax = plt.subplots()\n",
    "#ax.hist(df[df['ogpweb#'] == 1]['tod'], alpha=0.5, bins=100, label='1')\n",
    "#ax.hist(df[df['ogpweb#'] == 2]['tod'], alpha=0.5, bins=100, label='2')\n",
    "#ax.hist(df[df['ogpweb#'] == 3]['tod'], alpha=0.5, bins=100, label='3')\n",
    "#ax.hist(df[df['ogpweb#'] == 4]['tod'], alpha=0.5, bins=100, label='4')\n",
    "#plt.show()"
   ]
  }
 ],
 "metadata": {
  "kernelspec": {
   "display_name": "Python 3",
   "language": "python",
   "name": "python3"
  },
  "language_info": {
   "codemirror_mode": {
    "name": "ipython",
    "version": 3
   },
   "file_extension": ".py",
   "mimetype": "text/x-python",
   "name": "python",
   "nbconvert_exporter": "python",
   "pygments_lexer": "ipython3",
   "version": "3.6.9"
  }
 },
 "nbformat": 4,
 "nbformat_minor": 2
}
